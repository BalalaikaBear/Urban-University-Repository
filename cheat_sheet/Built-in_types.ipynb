{
 "cells": [
  {
   "cell_type": "markdown",
   "id": "af8b7870-aab2-4470-921a-df7dd2957939",
   "metadata": {},
   "source": [
    "# Типы данных"
   ]
  },
  {
   "cell_type": "markdown",
   "id": "73e50fc0-f885-45d1-8877-a27eedd3ba9f",
   "metadata": {},
   "source": [
    "**Integer** - целое число"
   ]
  },
  {
   "cell_type": "code",
   "execution_count": 17,
   "id": "a4988fd8-f70f-417f-82da-f3a653dc9ea6",
   "metadata": {},
   "outputs": [
    {
     "name": "stdout",
     "output_type": "stream",
     "text": [
      "-142 <class 'int'>\n"
     ]
    }
   ],
   "source": [
    "a = -142  # int\n",
    "print(a, type(a))"
   ]
  },
  {
   "cell_type": "markdown",
   "id": "84b12fb0-5b2b-4ed9-9acf-f639687b6deb",
   "metadata": {},
   "source": [
    " "
   ]
  },
  {
   "cell_type": "markdown",
   "id": "a79e1511-7c8d-467d-972d-03966e754b36",
   "metadata": {},
   "source": [
    "**Float** - число с плавающей точкой (вещественное число)"
   ]
  },
  {
   "cell_type": "code",
   "execution_count": 13,
   "id": "29684d66-1a2a-470c-a1d4-45055c6c9fbe",
   "metadata": {},
   "outputs": [
    {
     "name": "stdout",
     "output_type": "stream",
     "text": [
      "2.0 <class 'float'>\n"
     ]
    }
   ],
   "source": [
    "a = 2.0  # float\n",
    "print(a, type(a))"
   ]
  },
  {
   "cell_type": "markdown",
   "id": "1766fe38-decb-4126-9c8e-412ab6789293",
   "metadata": {},
   "source": [
    " "
   ]
  },
  {
   "cell_type": "markdown",
   "id": "99ba31bd-fd7d-4db3-bc21-ab668328b00b",
   "metadata": {},
   "source": [
    "**String** - строка (содержит любые символы)"
   ]
  },
  {
   "cell_type": "code",
   "execution_count": 14,
   "id": "1ef64cb4-5fb8-447c-9e00-f5b106bf1bf5",
   "metadata": {},
   "outputs": [
    {
     "name": "stdout",
     "output_type": "stream",
     "text": [
      "name <class 'str'>\n"
     ]
    }
   ],
   "source": [
    "a = \"name\"  # str\n",
    "print(a, type(a))"
   ]
  },
  {
   "cell_type": "markdown",
   "id": "3f719b8a-2fb5-4488-adeb-19c7f4891b12",
   "metadata": {},
   "source": [
    " "
   ]
  },
  {
   "cell_type": "markdown",
   "id": "5f0ce243-f64e-4a1b-b25a-d8ba341af627",
   "metadata": {},
   "source": [
    "**List** - список (последовательность элементов любого типа)"
   ]
  },
  {
   "cell_type": "code",
   "execution_count": 15,
   "id": "0b58098b-2613-49cb-af75-23a14b3ca0ef",
   "metadata": {},
   "outputs": [
    {
     "name": "stdout",
     "output_type": "stream",
     "text": [
      "[1, 2.4, 'Hi'] <class 'list'>\n"
     ]
    }
   ],
   "source": [
    "a = [1, 2.4, \"Hi\"]  # list\n",
    "print(a, type(a))"
   ]
  },
  {
   "cell_type": "markdown",
   "id": "fcdb1aa3-3d58-434c-a811-ced407c33e24",
   "metadata": {},
   "source": [
    " "
   ]
  },
  {
   "cell_type": "markdown",
   "id": "48484c8a-c649-434f-9f74-cf5d321d93f7",
   "metadata": {},
   "source": [
    "**Dictionary** - словарь (последовательность пар элементов, содержащих ключ-значение)\n",
    "> {key: value}"
   ]
  },
  {
   "cell_type": "code",
   "execution_count": 16,
   "id": "29dad003-e819-474b-a40e-0e37ff2ff758",
   "metadata": {},
   "outputs": [
    {
     "name": "stdout",
     "output_type": "stream",
     "text": [
      "{'key': 14, 'other_key': 'eleven'} <class 'dict'>\n"
     ]
    }
   ],
   "source": [
    "a = {\"key\": 14, \"other_key\": \"eleven\"}  # dict\n",
    "print(a, type(a))"
   ]
  },
  {
   "cell_type": "markdown",
   "id": "125ca7e8-4ca3-4080-8aca-f705a0b3454d",
   "metadata": {},
   "source": [
    " "
   ]
  },
  {
   "cell_type": "markdown",
   "id": "9b8d725b-3ea7-4682-bda8-7b23709e077b",
   "metadata": {},
   "source": [
    "**Tuple** - кортеж (неизменяемая упорядоенная последовательность)"
   ]
  },
  {
   "cell_type": "code",
   "execution_count": 19,
   "id": "76e336bf-4904-4f98-887c-7350815f25d2",
   "metadata": {},
   "outputs": [
    {
     "name": "stdout",
     "output_type": "stream",
     "text": [
      "(1, 2.4, 'Welcome') <class 'tuple'>\n"
     ]
    }
   ],
   "source": [
    "a = (1, 2.4, \"Welcome\")  # tuple\n",
    "print(a, type(a))"
   ]
  },
  {
   "cell_type": "markdown",
   "id": "e9ceb3a2-0c8b-499b-bd9c-c4652468ba29",
   "metadata": {},
   "source": [
    " "
   ]
  },
  {
   "cell_type": "markdown",
   "id": "a204e09b-4c3d-431f-9b3d-8c6792c1def8",
   "metadata": {},
   "source": [
    "**Set** - множество (изменяемая неупорядоченная последовательность)\n",
    "> Не может иметь одинаковые значения"
   ]
  },
  {
   "cell_type": "code",
   "execution_count": 20,
   "id": "c9c329c9-3f95-4ead-97c7-664f241d4a17",
   "metadata": {},
   "outputs": [
    {
     "name": "stdout",
     "output_type": "stream",
     "text": [
      "{10, 100, 'mango'} <class 'set'>\n"
     ]
    }
   ],
   "source": [
    "a = {10, 10, 100, \"mango\", \"mango\"}  # set\n",
    "print(a, type(a))"
   ]
  },
  {
   "cell_type": "markdown",
   "id": "390dd963-ede4-4f06-ab32-8d4a0b1b514d",
   "metadata": {},
   "source": [
    " "
   ]
  },
  {
   "cell_type": "markdown",
   "id": "56165b11-00ac-49c1-9728-0bd4ce2267cd",
   "metadata": {},
   "source": [
    "**Boolean** - логический тип данных\n",
    "```\n",
    "True - истина\n",
    "False - ложь"
   ]
  },
  {
   "cell_type": "code",
   "execution_count": 21,
   "id": "59f73400-8d71-4c73-a29c-648826cbc47b",
   "metadata": {},
   "outputs": [
    {
     "name": "stdout",
     "output_type": "stream",
     "text": [
      "True <class 'bool'>\n"
     ]
    }
   ],
   "source": [
    "a = True  # bool\n",
    "print(a, type(a))"
   ]
  },
  {
   "cell_type": "markdown",
   "id": "14143e26-6d50-4785-abad-0d949d3dda58",
   "metadata": {},
   "source": [
    " "
   ]
  },
  {
   "cell_type": "code",
   "execution_count": null,
   "id": "b4c295dd-e4ef-456e-85ee-a29b45992849",
   "metadata": {},
   "outputs": [],
   "source": []
  }
 ],
 "metadata": {
  "kernelspec": {
   "display_name": "Python 3 (ipykernel)",
   "language": "python",
   "name": "python3"
  },
  "language_info": {
   "codemirror_mode": {
    "name": "ipython",
    "version": 3
   },
   "file_extension": ".py",
   "mimetype": "text/x-python",
   "name": "python",
   "nbconvert_exporter": "python",
   "pygments_lexer": "ipython3",
   "version": "3.12.4"
  }
 },
 "nbformat": 4,
 "nbformat_minor": 5
}
