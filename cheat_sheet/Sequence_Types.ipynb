{
 "cells": [
  {
   "cell_type": "markdown",
   "id": "5758a163-ad9b-4f39-af75-a63b64a7e063",
   "metadata": {},
   "source": [
    "# Последовательности (Sequence Types)"
   ]
  },
  {
   "cell_type": "markdown",
   "id": "dadea2d8-9dd8-46ae-873c-102d9c4946ce",
   "metadata": {},
   "source": [
    "Существует три различных <u>[типа данных](./Built-in_types.ipynb)</u>:\n",
    "* **list** - список\n",
    "* **tuple** - кортеж\n",
    "* **range** - "
   ]
  },
  {
   "cell_type": "markdown",
   "id": "e55b42dd-324a-4759-ad56-d809398922b7",
   "metadata": {},
   "source": [
    "## Общие операции с последовательностью"
   ]
  },
  {
   "cell_type": "markdown",
   "id": "5dd8d60d-f0c7-4914-acb3-c26d84712226",
   "metadata": {},
   "source": [
    "В этой таблице перечислены **операции** с последовательностями, отсортированные по возрастанию приоритета. В таблице `s` и `t` - последовательности одного типа, `n`, `i`, `j` и `k` - целые числа, а `x` - произвольный объект, который удовлетворяет любым ограничениям типа и значения, налагаемым `s`. <br>\n",
    "Операции `in` и `not in` имеют те же приоритеты, что и операции сравнения. Операции `+` (объединение) и `*` (повторение) имеют тот же приоритет, что и соответствующие числовые операции."
   ]
  },
  {
   "cell_type": "markdown",
   "id": "b3af395a-19e8-439b-8bbc-aba49a19ab9b",
   "metadata": {},
   "source": [
    "|Оператор|Результат|\n",
    "|-|-|\n",
    "|`x is s`|`True`, если элемент из `s` равен `x`, иначе `False`|\n",
    "|`x not in s`|`False`, если элемент из `s` равен `x`, иначе `True`|\n",
    "|`s + t`|Конкатенация (объединение) `s` и `t`|\n",
    "|`s * n` or `n * s`|Эквивалентно сложению `s` к самому себе `n` раз|\n",
    "|`s[i]`|`i`-ый элемент `s`, начинается с 0|\n",
    "|`s[i:j]`|Отрезать `s` от `i` до `j`|\n",
    "|`s[i:j:k]`|Отрезать `s` от `i` до `j` с шагом `k`|\n",
    "|`len(s)`|Количество элементов в `s`|\n",
    "|`min(s)`|Наименьший элемент в `s`|\n",
    "|`max(s)`|Наибольший элемент в `s`|\n",
    "|`s.index(x[, i[, j]])`|Индекс первого появления `x` в `s` (искать начиная с индекса `i` и до индекса `j`)|\n",
    "|`s.count(x)`|Общее количество вхождений `x` в `s`|"
   ]
  },
  {
   "cell_type": "markdown",
   "id": "2482ebe4-5606-4386-93fc-9caf6d804f54",
   "metadata": {},
   "source": [
    "## Изменяемые типы последовательностей"
   ]
  },
  {
   "cell_type": "code",
   "execution_count": null,
   "id": "d2f66eac-4a8d-4676-b012-77e3c2ee042f",
   "metadata": {},
   "outputs": [],
   "source": []
  }
 ],
 "metadata": {
  "kernelspec": {
   "display_name": "Python 3 (ipykernel)",
   "language": "python",
   "name": "python3"
  },
  "language_info": {
   "codemirror_mode": {
    "name": "ipython",
    "version": 3
   },
   "file_extension": ".py",
   "mimetype": "text/x-python",
   "name": "python",
   "nbconvert_exporter": "python",
   "pygments_lexer": "ipython3",
   "version": "3.12.4"
  }
 },
 "nbformat": 4,
 "nbformat_minor": 5
}
