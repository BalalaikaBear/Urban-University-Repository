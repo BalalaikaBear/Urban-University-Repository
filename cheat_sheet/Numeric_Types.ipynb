{
 "cells": [
  {
   "cell_type": "markdown",
   "id": "ab136502-fbb5-45cb-a8ea-321062df008e",
   "metadata": {},
   "source": [
    "# Числовые типы данных (Numeric Types)"
   ]
  },
  {
   "cell_type": "markdown",
   "id": "47cc3e3b-885c-4a03-a9b8-80ebde85265e",
   "metadata": {},
   "source": [
    "Существует три различных числовых <u>[типа данных](./Built-in_types.ipynb)</u>:\n",
    "* **int** - целые числа (integers)\n",
    "    * **bool** - логический тип данных (является подклассом *int*) (boolean)\n",
    "* **float** - числа с плавающей точкой (вещественные) (floating point numbers)\n",
    "* **complex** - ко́мпле́ксные числа (complex numbers)\n",
    "\n",
    "Все числовые типы данных поддерживают следующие **операции**:"
   ]
  },
  {
   "cell_type": "markdown",
   "id": "281a2179-cfc7-49ff-b9bd-0ce2622e3262",
   "metadata": {},
   "source": [
    "|Оператор|Операция|Пример|Результат|\n",
    "|-|-|-|-|\n",
    "|`x + y`|Сложение|`2 + 3`|5|\n",
    "|`x - y`|Вычитание|`2 - 10`|-8|\n",
    "|`x * y`|Умножение|`4 * 5`|20|\n",
    "|`x / y`|Деление|`22 / 8`|2.75|\n",
    "|`x // y`|Целочисленное деление с отбрасыванием дробной части|`22 // 8`|2|\n",
    "|`x % y`|Остаток от деления|`22 % 8`|6|\n",
    "|`x ** y`|Возвести число `x` в степень `y`|`2 ** 3`|8|\n",
    "|`pow(x, y)`|Возвести число `x` в степень `y`|`2 ** 3`|8|\n",
    "|`abs(x)`|Модуль|`abs(-5)`|5|\n",
    "|`int(x)`|Преобразовать в целое число (отбрасывает значения после точки)|`int(2.6)`|2|\n",
    "|`float(x)`|Преобразовать в число с плавающей точкой|`float(2)`|2.0|\n",
    "|`complex(re,im)`|Комплексное число с вещественной частью `re`, и мнимой частью `im`|`complex(5,2)`|5+2j|\n",
    "|`c.conjugate()`||||\n",
    "|`divmod(x, y)`|пара `(x // y, x % y)`|`divmod(22, 8)`|(2, 6)|"
   ]
  },
  {
   "cell_type": "markdown",
   "id": "16677048-cc80-471d-9f5c-0954166af517",
   "metadata": {},
   "source": [
    "Примечания: <br>\n",
    "1. При делении результат округляется в сторону минус бесконечности: `1//2` = `0`, `(-1)//2` = `-1`, `1//(-2)` = `-1`, `(-1)//(-2)` = `0`\n",
    "2. Python определяет `pow(0, 0)` и `0 ** 0` как `1`\n",
    "3. **Float** может принимать значения `\"nan\"` (Not a Number) и `\"inf\"` с доболнительным `\"+\"` или `\"-\"` знаком"
   ]
  },
  {
   "cell_type": "markdown",
   "id": "8a417ccf-da62-4be0-93d8-2171532be466",
   "metadata": {},
   "source": [
    "---"
   ]
  },
  {
   "cell_type": "markdown",
   "id": "c6c73ad4-92ec-48e3-b463-1cbc3ece6cc8",
   "metadata": {},
   "source": [
    "**Приоритет математических операторов** Python соответствует порядку выполнения операций, принятому в математике:\n",
    "1. `**` Возведение в степень\n",
    "2. `*`, `/`, `//`, `%` (в порядке слева направо)\n",
    "3. `+`, `-` (в порядке слева направо)"
   ]
  },
  {
   "cell_type": "code",
   "execution_count": 58,
   "id": "45b44ea9-27a6-45eb-87c6-c9bbc20541a0",
   "metadata": {},
   "outputs": [
    {
     "data": {
      "text/plain": [
       "20"
      ]
     },
     "execution_count": 58,
     "metadata": {},
     "output_type": "execute_result"
    }
   ],
   "source": [
    "4 + 2 * 2 ** 3  # ~ 4+(2*(2**3)"
   ]
  },
  {
   "cell_type": "markdown",
   "id": "aba58ac4-ed6c-4d68-8c97-4bde31efdd92",
   "metadata": {},
   "source": [
    "## Побитовые операции над данными типа `integer`"
   ]
  },
  {
   "cell_type": "markdown",
   "id": "4cdede62-f70c-4d61-b8af-b2ba21ec4b73",
   "metadata": {},
   "source": [
    "<div class=\"alert alert-block alert-warning\">\n",
    "    <b>Побитовые операции характерны только для переменных типа integer.<br>\n",
    "    Количество битов неограничено.</b>\n",
    "</div>"
   ]
  },
  {
   "cell_type": "markdown",
   "id": "08b92831-49bc-4612-a5aa-b6a8c500961f",
   "metadata": {},
   "source": [
    "|Оператор|Операция|Пример|Результат|\n",
    "|-|-|-|-|\n",
    "|`x \\| y`|Побитовое ИЛИ|`5 \\| 12`|13|\n",
    "|`x \\| y`|Побитовое ИЛИ|`0b101 \\| 0b1100`|`0b1101`|\n",
    "|`x ^ y`|Побитовое ИЛИ-НЕ|`5 ^ 12`|9|\n",
    "|`x ^ y`|Побитовое ИЛИ-НЕ|`0b101 ^ 0b1100`|`0b1001`|\n",
    "|`x & y`|Побитовое И|`5 & 12`|4|\n",
    "|`x & y`|Побитовое И|`0b101 & 0b1100`|`0b100`|\n",
    "|`x << n`|Побитовый сдвиг влево на `n` бит|`5 << 2`|20|\n",
    "|`x << n`|Побитовый сдвиг влево на `n` бит|`0b101 << 2`|`0b10100`|\n",
    "|`x >> n`|Побитовый сдвиг вправо на `n` бит|`5 >> 2`|1|\n",
    "|`x >> n`|Побитовый сдвиг вправо на `n` бит|`0b101 >> 2`|`0b1`|\n",
    "|`~x`|Переворачивает бит|`~5`|-6|\n",
    "|`~x`|Переворачивает бит|`~0b101`|`-0b110`|"
   ]
  },
  {
   "cell_type": "markdown",
   "id": "47773899-f0c3-4f54-b1c0-e20f0e76ed83",
   "metadata": {},
   "source": [
    "Примечания:\n",
    "1. Побитовый сдвиг на отрицательное число невозможен - вызовет <span style=\"color:red\">ошибку</span> <u>ValueError</u>\n",
    "2. Побитовый сдвиг влево на `n` бит эквивалентно `pow(2, n)`"
   ]
  },
  {
   "cell_type": "markdown",
   "id": "84d46966-76d8-409c-8b9d-45e4155df1ba",
   "metadata": {},
   "source": [
    "---"
   ]
  },
  {
   "cell_type": "markdown",
   "id": "f4215cf1-1725-4d54-ac86-bb0b4cf37e4b",
   "metadata": {
    "jp-MarkdownHeadingCollapsed": true
   },
   "source": [
    "## Дополнительные методы над типом данных `integer`"
   ]
  },
  {
   "cell_type": "markdown",
   "id": "48583a2e-5987-4cb5-8889-6ba7d295189e",
   "metadata": {},
   "source": [
    "+ **`bin(int)`** - Преобразует целое число в двоичную строку с префиксом `0b`"
   ]
  },
  {
   "cell_type": "code",
   "execution_count": 57,
   "id": "b07516f9-687a-43d2-b35b-563df9043cbb",
   "metadata": {},
   "outputs": [
    {
     "data": {
      "text/plain": [
       "'0b1011'"
      ]
     },
     "execution_count": 57,
     "metadata": {},
     "output_type": "execute_result"
    }
   ],
   "source": [
    "a = 11\n",
    "bin(a)"
   ]
  },
  {
   "cell_type": "markdown",
   "id": "d6d6eb04-604c-4239-9fd5-ce29a776d422",
   "metadata": {},
   "source": [
    " "
   ]
  },
  {
   "cell_type": "markdown",
   "id": "45bc95e8-b67e-43bb-92c7-4342ed9214bf",
   "metadata": {},
   "source": [
    "+ **`int.bit_length()`** - Возвращает число битов"
   ]
  },
  {
   "cell_type": "code",
   "execution_count": 56,
   "id": "a63acad9-914b-43e7-be77-bd187d0b0ff5",
   "metadata": {},
   "outputs": [
    {
     "data": {
      "text/plain": [
       "(5, '-0b10010')"
      ]
     },
     "execution_count": 56,
     "metadata": {},
     "output_type": "execute_result"
    }
   ],
   "source": [
    "a = -18\n",
    "a.bit_length(), bin(a)"
   ]
  },
  {
   "cell_type": "markdown",
   "id": "70efc277-bc8a-4574-835c-53ec12832ce0",
   "metadata": {},
   "source": [
    "> <span style=\"color:green\"> Добавлено в версии 3.1.</span>"
   ]
  },
  {
   "cell_type": "markdown",
   "id": "7aeb1237-a81f-4169-adcb-4fc41595ecd0",
   "metadata": {},
   "source": [
    " "
   ]
  },
  {
   "cell_type": "markdown",
   "id": "46b27e2b-2cb2-4006-b252-dd12e68df9c7",
   "metadata": {},
   "source": [
    "+ **`int.bit_count()`** - Возвращает число битов = `1`"
   ]
  },
  {
   "cell_type": "code",
   "execution_count": 55,
   "id": "db6a87dd-af2e-4d5d-82f1-5a84e94b1507",
   "metadata": {},
   "outputs": [
    {
     "data": {
      "text/plain": [
       "(4, '0b101011')"
      ]
     },
     "execution_count": 55,
     "metadata": {},
     "output_type": "execute_result"
    }
   ],
   "source": [
    "a = 43\n",
    "a.bit_count(), bin(a)"
   ]
  },
  {
   "cell_type": "markdown",
   "id": "f6ffd20a-ccfb-4b48-baf0-c1af8ecb3e6d",
   "metadata": {},
   "source": [
    "> <span style=\"color:green\"> Добавлено в версии 3.10.</span>"
   ]
  },
  {
   "cell_type": "markdown",
   "id": "9182bdb2-c19e-41e0-bb9d-ebe9b6c75962",
   "metadata": {},
   "source": [
    " "
   ]
  },
  {
   "cell_type": "markdown",
   "id": "e4e9bf6e-d881-4f21-9d69-188e8834257f",
   "metadata": {},
   "source": [
    "+ **`int.to_bytes(length, byteorder='big', *, signed=False)`** - Возвращает массив байтов, представляющий собой целое число"
   ]
  },
  {
   "cell_type": "markdown",
   "id": "2d6a5b87-1ea1-45e3-9154-e7d555c405ec",
   "metadata": {},
   "source": [
    "`length` - длина в байтах (по умолчанию = `1`). <br>\n",
    "<blockquote> Выдает <span style=\"color:red\">ошибку</span> <u>OverflowError</u> если количество байт недостаточно </blockquote>"
   ]
  },
  {
   "cell_type": "markdown",
   "id": "d9fd7e26-09a7-4803-b5a9-57edcfddf6be",
   "metadata": {},
   "source": [
    "`byteorder` - определяет порядок байтов, используемый для предоставления целого числа (по умолчанию = `'big'`). <br>\n",
    "Если `byteorder` = `'big'` - старший байт находится в начале массива. <br>\n",
    "Если `byteorder` = `'small'` - старший байт находится в конце массива."
   ]
  },
  {
   "cell_type": "code",
   "execution_count": 55,
   "id": "8221aa56-41d6-44a9-9206-9fd8df1a2608",
   "metadata": {},
   "outputs": [
    {
     "name": "stdout",
     "output_type": "stream",
     "text": [
      "b'\\x04\\x00'\n",
      "b'\\x00\\x00\\x00\\x00\\x00\\x00\\x00\\x00\\x04\\x00'\n",
      "b'\\xff\\xff\\xff\\xff\\xff\\xff\\xff\\xff\\xfc\\x00'\n"
     ]
    }
   ],
   "source": [
    "a = 1024\n",
    "print(a.to_bytes(2))\n",
    "print(a.to_bytes(10))\n",
    "print((-a).to_bytes(10, signed=True))"
   ]
  },
  {
   "cell_type": "code",
   "execution_count": 54,
   "id": "8cef9697-3f3e-4c78-9f32-52b3e8ce8955",
   "metadata": {},
   "outputs": [
    {
     "data": {
      "text/plain": [
       "b'\\xe8\\x03'"
      ]
     },
     "execution_count": 54,
     "metadata": {},
     "output_type": "execute_result"
    }
   ],
   "source": [
    "a = 1000\n",
    "a.to_bytes((a.bit_length() + 7) // 8, byteorder='little')"
   ]
  },
  {
   "cell_type": "markdown",
   "id": "06a7ec16-c61d-4cb4-8a26-e661f6964e66",
   "metadata": {},
   "source": [
    "Значение по умолчанию может быть использовано для удобного преобразования целого числа в однобайтовый объект"
   ]
  },
  {
   "cell_type": "code",
   "execution_count": 53,
   "id": "80aa6cee-1fb0-435e-9f8f-cfb12cc7dbee",
   "metadata": {},
   "outputs": [
    {
     "data": {
      "text/plain": [
       "b'~'"
      ]
     },
     "execution_count": 53,
     "metadata": {},
     "output_type": "execute_result"
    }
   ],
   "source": [
    "a = 126  ## максимальное значение - 255\n",
    "a.to_bytes()"
   ]
  },
  {
   "cell_type": "markdown",
   "id": "20fd1bb4-54c0-41af-951c-914016ab47d3",
   "metadata": {},
   "source": [
    "> <span style=\"color:green\"> Добавлено в версии 3.2.</span> <br>\n",
    "> <span style=\"color:#FF4F00\"> Изменено в версии 3.11:</span> добавлены аргументы `length` и`byteorder` по умолчанию"
   ]
  },
  {
   "cell_type": "markdown",
   "id": "a3315f18-9096-4533-a253-3343388c05b0",
   "metadata": {},
   "source": [
    " "
   ]
  },
  {
   "cell_type": "markdown",
   "id": "384729a9-6312-4309-974b-75f147188fef",
   "metadata": {},
   "source": [
    "+ **`int.from_bytes(bytes, byteorder='big', *, signed=False)`** - Возвращает целое число, представленное заданным массивом байт"
   ]
  },
  {
   "cell_type": "markdown",
   "id": "2e6a0fed-36fa-438f-abfc-5e9e4b1406a0",
   "metadata": {},
   "source": [
    "Аргумент `bytes` должен быть либо <u>[байтоподобным объектом](https://docs.python.org/3/glossary.html#term-bytes-like-object)</u>, либо повторяемым производящим байты. <br>\n",
    "`byteorder` - определяет порядок байтов, используемый для предоставления целого числа (по умолчанию = `'big'`). <br>\n",
    "Если `byteorder` = `'big'` - старший байт находится в начале массива. <br>\n",
    "Если `byteorder` = `'small'` - старший байт находится в конце массива."
   ]
  },
  {
   "cell_type": "code",
   "execution_count": 3,
   "id": "c2d50fa3-be9d-433a-b3c2-b8a54150358e",
   "metadata": {},
   "outputs": [
    {
     "name": "stdout",
     "output_type": "stream",
     "text": [
      "16\n",
      "4096\n",
      "-1024\n",
      "64512\n",
      "16711680\n"
     ]
    }
   ],
   "source": [
    "print(int.from_bytes(b'\\x00\\x10'))\n",
    "print(int.from_bytes(b'\\x00\\x10', byteorder='little'))\n",
    "print(int.from_bytes(b'\\xfc\\x00', signed=True))\n",
    "print(int.from_bytes(b'\\xfc\\x00', signed=False))\n",
    "print(int.from_bytes([255, 0, 0]))"
   ]
  },
  {
   "cell_type": "markdown",
   "id": "005270b4-0d37-4cd8-bd5e-b53650588da8",
   "metadata": {},
   "source": [
    "> <span style=\"color:green\"> Добавлено в версии 3.2.</span> <br>\n",
    "> <span style=\"color:#FF4F00\"> Изменено в версии 3.11:</span> добавлен аргумент `byteorder` по умолчанию"
   ]
  },
  {
   "cell_type": "markdown",
   "id": "6e0662f4-39ec-4e26-844a-8586e97294d3",
   "metadata": {},
   "source": [
    " "
   ]
  },
  {
   "cell_type": "markdown",
   "id": "f1534765-3afe-4248-8d37-3a06105de87f",
   "metadata": {},
   "source": [
    "+ **`int.as_integer_ratio()`** - Возвращает *числитель* и положительный *знаменатель* дробного числа"
   ]
  },
  {
   "cell_type": "markdown",
   "id": "a38dc882-e57e-45db-978e-8ed4594fdbb2",
   "metadata": {},
   "source": [
    "<div class=\"alert alert-block alert-warning\">\n",
    "    <b>В случае типа данных integer всегда возвращает исходное число в качестве числителя и 1 в качестве знаменателя</b>\n",
    "</div>"
   ]
  },
  {
   "cell_type": "code",
   "execution_count": 60,
   "id": "4475accb-c245-4811-9af7-f5b577264ba9",
   "metadata": {},
   "outputs": [
    {
     "name": "stdout",
     "output_type": "stream",
     "text": [
      "(-23, 1)\n",
      "(-11, 1)\n",
      "(0, 1)\n",
      "(15, 1)\n"
     ]
    }
   ],
   "source": [
    "for i in -23, -11, 0, 15:\n",
    "    print(i.as_integer_ratio())"
   ]
  },
  {
   "cell_type": "markdown",
   "id": "92a671ee-6b87-4c59-af4e-666e1b5dd387",
   "metadata": {},
   "source": [
    "> <span style=\"color:green\"> Добавлено в версии 3.8.</span>"
   ]
  },
  {
   "cell_type": "markdown",
   "id": "d22dbf6d-e019-4261-a37d-8ad8afe9b3ee",
   "metadata": {},
   "source": [
    " "
   ]
  },
  {
   "cell_type": "markdown",
   "id": "44552ba7-7bd1-455c-9848-e2163b27d3bb",
   "metadata": {},
   "source": [
    "+ **`int.is_integer()`** - Возвращает `True` если число является `integer`"
   ]
  },
  {
   "cell_type": "code",
   "execution_count": 52,
   "id": "29542836-98e9-4704-b813-7c1bbaf19954",
   "metadata": {},
   "outputs": [
    {
     "name": "stdout",
     "output_type": "stream",
     "text": [
      "True\n",
      "False\n"
     ]
    }
   ],
   "source": [
    "print((20).is_integer())\n",
    "print((19.9).is_integer())"
   ]
  },
  {
   "cell_type": "markdown",
   "id": "6998a1a8-5cf9-4fba-8c1b-53e0a2897d15",
   "metadata": {},
   "source": [
    "> <span style=\"color:green\"> Добавлено в версии 3.12.</span>"
   ]
  },
  {
   "cell_type": "markdown",
   "id": "494f1a48-e8d2-4ecb-95f7-5f8e08634aa6",
   "metadata": {},
   "source": [
    "---"
   ]
  },
  {
   "cell_type": "markdown",
   "id": "b5cdcecb-3237-4531-9132-34647b7d4ab6",
   "metadata": {
    "jp-MarkdownHeadingCollapsed": true
   },
   "source": [
    "## Дополнительные методы над типом данных `float`"
   ]
  },
  {
   "cell_type": "markdown",
   "id": "9807b606-8307-49f9-bc49-099b4d8e3375",
   "metadata": {},
   "source": [
    "+ **`float.as_integer_ratio()`** - Возвращает *числитель* и положительный *знаменатель* дробного числа <br>\n",
    "> Вызывает <span style=\"color:red\">ошибки</span> <u>OverflowError</u> при `\"inf\"` и <u>ValueError</u> при `NaN`"
   ]
  },
  {
   "cell_type": "code",
   "execution_count": 10,
   "id": "4c9daf8a-1575-46e1-a193-756e244a1197",
   "metadata": {},
   "outputs": [
    {
     "name": "stdout",
     "output_type": "stream",
     "text": [
      "0.0 (0, 1)\n",
      "12.25 (49, 4)\n",
      "24.5 (49, 2)\n",
      "36.75 (147, 4)\n"
     ]
    }
   ],
   "source": [
    "steps = 12.25\n",
    "for i in range(4):\n",
    "    print((i*steps), (i*steps).as_integer_ratio())"
   ]
  },
  {
   "cell_type": "code",
   "execution_count": 21,
   "id": "0939ad07-3bad-45fe-b648-882a81651d78",
   "metadata": {},
   "outputs": [
    {
     "name": "stdout",
     "output_type": "stream",
     "text": [
      "0.0 (0, 1)\n",
      "1.0 (1, 1)\n",
      "8.824411082479122 (4967701807852131, 562949953421312)\n",
      "31.54106995953402 (4439010966144505, 140737488355328)\n"
     ]
    }
   ],
   "source": [
    "steps = 3.1415\n",
    "for i in range(4):\n",
    "    print((i**steps), (i**steps).as_integer_ratio())"
   ]
  },
  {
   "cell_type": "code",
   "execution_count": 50,
   "id": "e661a6b9-5403-4f35-8570-571c67b1189f",
   "metadata": {},
   "outputs": [
    {
     "data": {
      "text/plain": [
       "(1, 4)"
      ]
     },
     "execution_count": 50,
     "metadata": {},
     "output_type": "execute_result"
    }
   ],
   "source": [
    "(0.25).as_integer_ratio()"
   ]
  },
  {
   "cell_type": "markdown",
   "id": "57dcd48f-9793-4f61-9b13-37d8e7311083",
   "metadata": {},
   "source": [
    " "
   ]
  },
  {
   "cell_type": "markdown",
   "id": "b73e04ac-11cd-415c-9f8e-420071e8ea6c",
   "metadata": {},
   "source": [
    "+ **`float.is_integer()`** - Возвращает `True` если число является `integer`"
   ]
  },
  {
   "cell_type": "code",
   "execution_count": 26,
   "id": "91ab8fe7-eee3-44e4-9901-ff860853799a",
   "metadata": {},
   "outputs": [
    {
     "name": "stdout",
     "output_type": "stream",
     "text": [
      "True\n",
      "False\n"
     ]
    }
   ],
   "source": [
    "print((20).is_integer())\n",
    "print((19.9).is_integer())"
   ]
  },
  {
   "cell_type": "markdown",
   "id": "e6a9b0e8-4c27-48ae-93eb-e42ab4fcf8e4",
   "metadata": {},
   "source": [
    " "
   ]
  },
  {
   "cell_type": "markdown",
   "id": "eb5b1921-a731-4fea-8ba6-d6921a0f59d5",
   "metadata": {},
   "source": [
    "+ **`float.hex()`** - Возвращает представление числа с плавающей точкой в виде *шестнадцатеричной* строки."
   ]
  },
  {
   "cell_type": "markdown",
   "id": "c6c1718f-4f58-49b1-9a07-60489de0badf",
   "metadata": {},
   "source": [
    "Для конечных чисел с плавающей запятой это представление всегда будет включать в себя начальную `0x` и конечную `p` и экспоненту."
   ]
  },
  {
   "cell_type": "code",
   "execution_count": 40,
   "id": "6999720b-ba08-467e-baca-4b159d861ec5",
   "metadata": {},
   "outputs": [
    {
     "name": "stdout",
     "output_type": "stream",
     "text": [
      "20.0    = 0x1.4000000000000p+4\n",
      "20.0005 = 0x1.40020c49ba5e3p+4\n",
      " 0.(3)  = 0x1.5555555555555p-2\n"
     ]
    }
   ],
   "source": [
    "print('20.0    =', (20.0).hex())\n",
    "print('20.0005 =', (20.0005).hex())\n",
    "print(' 0.(3)  =', (1/3).hex())"
   ]
  },
  {
   "cell_type": "markdown",
   "id": "6e27ced9-38b5-4048-bde9-6adc846c6296",
   "metadata": {},
   "source": [
    " "
   ]
  },
  {
   "cell_type": "markdown",
   "id": "641851d6-04e0-4aa9-9cee-6b349800beff",
   "metadata": {},
   "source": [
    "+ **`float.fromhex()`** - Возвращает значение с плавающей точкой `float`, представленное *шестнадцатеричной* строкой"
   ]
  },
  {
   "cell_type": "markdown",
   "id": "5da8c5c8-a078-4d53-889c-cecaf9b3a390",
   "metadata": {},
   "source": [
    "*Шестнадцатеричная* строка принимает вид: `[sign] ['0x'] integer ['.' fraction] ['p' exponent]`"
   ]
  },
  {
   "cell_type": "code",
   "execution_count": 48,
   "id": "1edf217b-7125-4cb9-9eae-af357d4fb6f4",
   "metadata": {},
   "outputs": [
    {
     "name": "stdout",
     "output_type": "stream",
     "text": [
      "20.0\n",
      "0.3333333333333333\n",
      "-255.0\n"
     ]
    }
   ],
   "source": [
    "print(float.fromhex('0x1.4p+4'))\n",
    "print(float.fromhex('0x1.5555555555555p-2'))\n",
    "print(float.fromhex('-0xff'))"
   ]
  },
  {
   "cell_type": "markdown",
   "id": "f9e2c4d0-52ec-4ded-82ff-a4a31e6a0c84",
   "metadata": {},
   "source": [
    " "
   ]
  },
  {
   "cell_type": "markdown",
   "id": "0c994e1c-7ce0-4e95-869f-da0632bda6a6",
   "metadata": {},
   "source": [
    "Например: *шестнадцатеричная* строка `0x3.a7p10` представляет собой число с плавающей точкой `(3 + 10./16 + 7./16**2) * 2.0**10`, или `3740.0`"
   ]
  },
  {
   "cell_type": "code",
   "execution_count": 49,
   "id": "6412843a-0572-4881-a719-d00615f96b08",
   "metadata": {},
   "outputs": [
    {
     "data": {
      "text/plain": [
       "3740.0"
      ]
     },
     "execution_count": 49,
     "metadata": {},
     "output_type": "execute_result"
    }
   ],
   "source": [
    "float.fromhex('0x3.a7p10')"
   ]
  },
  {
   "cell_type": "markdown",
   "id": "9507f72c-7c9e-4dac-88c9-41ca3ce5fe13",
   "metadata": {},
   "source": [
    "Применение обратного преобразования к `3740.0` дает другую шестнадцатеричную строку, представляющую то же число:"
   ]
  },
  {
   "cell_type": "code",
   "execution_count": 61,
   "id": "672abc24-1a24-4989-b48e-b00c1213e613",
   "metadata": {},
   "outputs": [
    {
     "data": {
      "text/plain": [
       "'0x1.d380000000000p+11'"
      ]
     },
     "execution_count": 61,
     "metadata": {},
     "output_type": "execute_result"
    }
   ],
   "source": [
    "float.hex(3740.0)"
   ]
  },
  {
   "cell_type": "markdown",
   "id": "ff16bc81-502a-4a85-9265-929ca26f254b",
   "metadata": {},
   "source": [
    "---"
   ]
  },
  {
   "cell_type": "markdown",
   "id": "7fc7ef90-ed23-4139-bbfe-862af4aac15a",
   "metadata": {},
   "source": [
    "## Логический тип данных (Boolean Type)"
   ]
  },
  {
   "cell_type": "markdown",
   "id": "04185a78-1b56-4bbb-a3ed-d971113227c8",
   "metadata": {},
   "source": [
    "Эти **логические операции** выполняются в порядке, записанном в таблице:"
   ]
  },
  {
   "cell_type": "markdown",
   "id": "b7597a7d-3452-4e1b-b0f0-ae951b0bf66a",
   "metadata": {},
   "source": [
    "|Оператор|Результат|Примечание|\n",
    "|-|-|-|\n",
    "|`x or y`|Если `x` = `True`, тогда `x`, иначе `y`|(1)|\n",
    "|`x and y`|Если `x` = `False`, тогда `x`, иначе `y`|(2)|\n",
    "|`not x`|Если `x` = `False`, тогда `True`, иначе `False`|(3)|"
   ]
  },
  {
   "cell_type": "markdown",
   "id": "bffbb0ff-952a-456d-a44a-1e0bf85ee342",
   "metadata": {},
   "source": [
    "Примечания: <br>\n",
    "1. Вычисляет второй аргумент только в том случае, если первый имеет значение `False`\n",
    "2. Вычисляет второй аргумент только в том случае, если первый имеет значение `True`\n",
    "3. `not` имеет более низкий приоритет, чем небулевы операторы, поэтому `not a == b` интерпретируется как `not (a == b)`, а `a == not b` является синтаксической ошибкой"
   ]
  },
  {
   "cell_type": "markdown",
   "id": "66aa2ace-11d6-4419-84a6-a0d03ad13b37",
   "metadata": {},
   "source": [
    "В Python существует 8 сравнивающих операторов. Они имеют одинаковый приоритет. Сравнения могут быть объединены в произвольную цепочку: например `x < y <= z` эквивалентно `x < y and y <= z` за исключением того, что `y` вычисляется только один раз (но в обоих случаях `z` вообще не вычисляется, когда `x < y` оказывается `False`)."
   ]
  },
  {
   "cell_type": "markdown",
   "id": "f46e4cc9-ed96-4a6b-a03d-bd43df1dff69",
   "metadata": {},
   "source": [
    "В этой таблице представлены **операции сравнения**:"
   ]
  },
  {
   "cell_type": "markdown",
   "id": "c3b28a60-64ca-4c13-b9ba-b9457c890157",
   "metadata": {},
   "source": [
    "|Оператор|Операция|\n",
    "|-|-|\n",
    "|`<`|Строго меньше чем|\n",
    "|`<=`|Меньше или равно|\n",
    "|`>`|Строго больше чем|\n",
    "|`>=`|Больше или равно|\n",
    "|`==`|Равно|\n",
    "|`!=`|Не равно|\n",
    "|`is`|Идентичность объекта|\n",
    "|`is not`|Отрицаемая идентичность объекта|"
   ]
  },
  {
   "cell_type": "markdown",
   "id": "c7a24d3f-36a6-484f-b7a9-5ab5a6a14442",
   "metadata": {},
   "source": [
    "Объекты разных типов, за исключением разных числовых типов, никогда не равны. Оператор `==` всегда определен, но для некоторых типов объектов (например, объектов класса) эквивалентен `is`. Операторы `<`, `<=`, `>` и `>=` определены только там, где они имеют смысл; например, они вызывают <span style=\"color:red\">ошибку</span> TypeError, когда один из аргументов является *комплексным числом*."
   ]
  },
  {
   "cell_type": "markdown",
   "id": "d7b1c2a4-3cb2-4d06-aa19-20ce3f013cc7",
   "metadata": {},
   "source": [
    "При применении **побитовых операторов** `&`, `|`, `^` к двум booleans, они возвращают значение bool, эквивалентное логическим операциям “and”, “or”, “xor”. <br>\n",
    "Однако логические операторы `and`, `or`, `!=` должно быть предпочтительнее, чем `&`, `|`, `^`"
   ]
  },
  {
   "cell_type": "markdown",
   "id": "480d2198-1e76-4e76-933d-8699c41893d8",
   "metadata": {},
   "source": [
    "> <span style=\"color:red\"> Начиная с версии 3.12:</span> использование оператора побитовой инверсии `~` не поддерживается и приведет к <span style=\"color:red\">ошибке</span> в Python 3.14."
   ]
  },
  {
   "cell_type": "markdown",
   "id": "9b2ea533-d438-4326-882a-a813307fc508",
   "metadata": {},
   "source": [
    "<div class=\"alert alert-block alert-warning\">\n",
    "    <b>bool - это подкласс int. Во многих числовых контекстах значения False и True ведут себя как целые числа 0 и 1 соответственно.</b>\n",
    "</div>"
   ]
  },
  {
   "cell_type": "code",
   "execution_count": null,
   "id": "886c892a-ae25-48f0-9d3b-a6df80c9a57e",
   "metadata": {},
   "outputs": [],
   "source": []
  }
 ],
 "metadata": {
  "kernelspec": {
   "display_name": "Python 3 (ipykernel)",
   "language": "python",
   "name": "python3"
  },
  "language_info": {
   "codemirror_mode": {
    "name": "ipython",
    "version": 3
   },
   "file_extension": ".py",
   "mimetype": "text/x-python",
   "name": "python",
   "nbconvert_exporter": "python",
   "pygments_lexer": "ipython3",
   "version": "3.12.4"
  }
 },
 "nbformat": 4,
 "nbformat_minor": 5
}
