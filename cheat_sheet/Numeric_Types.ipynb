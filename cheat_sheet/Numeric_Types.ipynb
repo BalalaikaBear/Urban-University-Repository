{
 "cells": [
  {
   "cell_type": "markdown",
   "id": "ab136502-fbb5-45cb-a8ea-321062df008e",
   "metadata": {},
   "source": [
    "# Числовые типы данных (Numeric Types)"
   ]
  },
  {
   "cell_type": "markdown",
   "id": "47cc3e3b-885c-4a03-a9b8-80ebde85265e",
   "metadata": {},
   "source": [
    "Существует три различных числовых <u>[типа данных](./Built-in_types.ipynb)</u>:\n",
    "* **int** - целые числа (integers)\n",
    "* **float** - числа с плавающей точкой (вещественные) (floating point numbers)\n",
    "* **complex** - ко́мпле́ксные числа (complex numbers)\n",
    "\n",
    "Все числовые типы данных поддерживают следующие **операции**:"
   ]
  },
  {
   "cell_type": "markdown",
   "id": "281a2179-cfc7-49ff-b9bd-0ce2622e3262",
   "metadata": {},
   "source": [
    "|Оператор|Операция|Пример|Результат|\n",
    "|-|-|-|-|\n",
    "|`x + y`|Сложение|`2 + 3`|5|\n",
    "|`x - y`|Вычитание|`2 - 10`|-8|\n",
    "|`x * y`|Умножение|`4 * 5`|20|\n",
    "|`x / y`|Деление|`22 / 8`|2.75|\n",
    "|`x // y`|Целочисленное деление с отбрасыванием дробной части|`22 // 8`|2|\n",
    "|`x % y`|Остаток от деления|`22 % 8`|6|\n",
    "|`x ** y`|Возвести число `x` в степень `y`|`2 ** 3`|8|\n",
    "|`pow(x, y)`|Возвести число `x` в степень `y`|`2 ** 3`|8|\n",
    "|`abs(x)`|Модуль|`abs(-5)`|5|\n",
    "|`int(x)`|Преобразовать в целое число (отбрасывает значения после точки)|`int(2.6)`|2|\n",
    "|`float(x)`|Преобразовать в число с плавающей точкой|`float(2)`|2.0|\n",
    "|`complex(re,im)`|Комплексное число с вещественной частью `re`, и мнимой частью `im`|`complex(5,2)`|5+2j|\n",
    "|`c.conjugate()`||||\n",
    "|`divmod(x, y)`|пара `(x // y, x % y)`|`divmod(22, 8)`|(2, 6)|"
   ]
  },
  {
   "cell_type": "markdown",
   "id": "16677048-cc80-471d-9f5c-0954166af517",
   "metadata": {},
   "source": [
    "Примечания: <br>\n",
    "1. При делении результат округляется в сторону минус бесконечности: `1//2` = `0`, `(-1)//2` = `-1`, `1//(-2)` = `-1`, `(-1)//(-2)` = `0`\n",
    "2. Python определяет `pow(0, 0)` и `0 ** 0` как `1`\n",
    "3. Float может принимать значения `\"nan\"` (Not a Number) и `\"inf\"` с доболнительным `\"+\"` или `\"-\"` знаком"
   ]
  },
  {
   "cell_type": "markdown",
   "id": "8a417ccf-da62-4be0-93d8-2171532be466",
   "metadata": {},
   "source": [
    "---"
   ]
  },
  {
   "cell_type": "markdown",
   "id": "c6c73ad4-92ec-48e3-b463-1cbc3ece6cc8",
   "metadata": {},
   "source": [
    "**Приоритет математических операторов** Python соответствует порядку выполнения операций, принятому в математике:\n",
    "1. `**` Возведение в степень\n",
    "2. `*`, `/`, `//`, `%` (в порядке слева направо)\n",
    "3. `+`, `-` (в порядке слева направо)"
   ]
  },
  {
   "cell_type": "code",
   "execution_count": 5,
   "id": "45b44ea9-27a6-45eb-87c6-c9bbc20541a0",
   "metadata": {},
   "outputs": [
    {
     "name": "stdout",
     "output_type": "stream",
     "text": [
      "20\n"
     ]
    }
   ],
   "source": [
    "print(4 + 2 * 2 ** 3)  # ~ 4+(2*(2**3)"
   ]
  },
  {
   "cell_type": "markdown",
   "id": "aba58ac4-ed6c-4d68-8c97-4bde31efdd92",
   "metadata": {},
   "source": [
    "## Побитовые операции над данными типа `integer`"
   ]
  },
  {
   "cell_type": "markdown",
   "id": "4cdede62-f70c-4d61-b8af-b2ba21ec4b73",
   "metadata": {},
   "source": [
    "<div class=\"alert alert-block alert-warning\">\n",
    "    <b>Побитовые операции характерны только для переменных типа integer.<br>\n",
    "    Количество битов неограничено.</b>\n",
    "</div>"
   ]
  },
  {
   "cell_type": "markdown",
   "id": "08b92831-49bc-4612-a5aa-b6a8c500961f",
   "metadata": {},
   "source": [
    "|Оператор|Операция|Пример|Результат|\n",
    "|-|-|-|-|\n",
    "|`x \\| y`|Побитовое ИЛИ|`5 \\| 12`|13|\n",
    "|`x \\| y`|Побитовое ИЛИ|`0b101 \\| 0b1100`|`0b1101`|\n",
    "|`x ^ y`|Побитовое ИЛИ-НЕ|`5 ^ 12`|9|\n",
    "|`x ^ y`|Побитовое ИЛИ-НЕ|`0b101 ^ 0b1100`|`0b1001`|\n",
    "|`x & y`|Побитовое И|`5 & 12`|4|\n",
    "|`x & y`|Побитовое И|`0b101 & 0b1100`|`0b100`|\n",
    "|`x << n`|Побитовый сдвиг влево на `n` бит|`5 ^ 2`|20|\n",
    "|`x << n`|Побитовый сдвиг влево на `n` бит|`0b101 ^ 0b10`|`0b10100`|\n",
    "|`x >> n`|Побитовый сдвиг вправо на `n` бит|`5 ^ 2`|1|\n",
    "|`x >> n`|Побитовый сдвиг вправо на `n` бит|`0b101 ^ 0b10`|`0b1`|\n",
    "|`~x`|Переворачивает бит|`~5`|-6|\n",
    "|`~x`|Переворачивает бит|`~0b101`|`-0b110`|"
   ]
  },
  {
   "cell_type": "markdown",
   "id": "47773899-f0c3-4f54-b1c0-e20f0e76ed83",
   "metadata": {},
   "source": [
    "Примечания:\n",
    "1. Побитовый сдвиг на отрицательное число невозможен - вызовет ошибку <u>ValueError</u>\n",
    "2. Побитовый сдвиг влево на `n` бит эквивалентно `pow(2, n)`"
   ]
  },
  {
   "cell_type": "markdown",
   "id": "84d46966-76d8-409c-8b9d-45e4155df1ba",
   "metadata": {},
   "source": [
    "---"
   ]
  },
  {
   "cell_type": "markdown",
   "id": "f4215cf1-1725-4d54-ac86-bb0b4cf37e4b",
   "metadata": {},
   "source": [
    "## Дополнительные методы над типом данных `integer`"
   ]
  },
  {
   "cell_type": "markdown",
   "id": "48583a2e-5987-4cb5-8889-6ba7d295189e",
   "metadata": {},
   "source": [
    "+ **`bin(int)`** - Преобразует целое число в двоичную строку с префиксом `0b`"
   ]
  },
  {
   "cell_type": "code",
   "execution_count": 11,
   "id": "b07516f9-687a-43d2-b35b-563df9043cbb",
   "metadata": {},
   "outputs": [
    {
     "name": "stdout",
     "output_type": "stream",
     "text": [
      "0b1011\n"
     ]
    }
   ],
   "source": [
    "a = 11\n",
    "print(bin(a))"
   ]
  },
  {
   "cell_type": "markdown",
   "id": "d6d6eb04-604c-4239-9fd5-ce29a776d422",
   "metadata": {},
   "source": [
    " "
   ]
  },
  {
   "cell_type": "markdown",
   "id": "45bc95e8-b67e-43bb-92c7-4342ed9214bf",
   "metadata": {},
   "source": [
    "+ **`int.bit_length()`** - Возвращает число битов"
   ]
  },
  {
   "cell_type": "code",
   "execution_count": 10,
   "id": "a63acad9-914b-43e7-be77-bd187d0b0ff5",
   "metadata": {},
   "outputs": [
    {
     "name": "stdout",
     "output_type": "stream",
     "text": [
      "5 -0b10010\n"
     ]
    }
   ],
   "source": [
    "a = -18\n",
    "print(a.bit_length(), bin(a))"
   ]
  },
  {
   "cell_type": "markdown",
   "id": "7aeb1237-a81f-4169-adcb-4fc41595ecd0",
   "metadata": {},
   "source": [
    " "
   ]
  },
  {
   "cell_type": "markdown",
   "id": "46b27e2b-2cb2-4006-b252-dd12e68df9c7",
   "metadata": {},
   "source": [
    "+ **`int.bit_count()`** - Возвращает число битов = `1`"
   ]
  },
  {
   "cell_type": "code",
   "execution_count": 13,
   "id": "db6a87dd-af2e-4d5d-82f1-5a84e94b1507",
   "metadata": {},
   "outputs": [
    {
     "name": "stdout",
     "output_type": "stream",
     "text": [
      "4 0b101011\n"
     ]
    }
   ],
   "source": [
    "a = 43\n",
    "print(a.bit_count(), bin(a))"
   ]
  },
  {
   "cell_type": "markdown",
   "id": "9182bdb2-c19e-41e0-bb9d-ebe9b6c75962",
   "metadata": {},
   "source": [
    " "
   ]
  },
  {
   "cell_type": "markdown",
   "id": "e4e9bf6e-d881-4f21-9d69-188e8834257f",
   "metadata": {},
   "source": [
    "+ **`int.to_bytes(length, byteorder='big', *, signed=False)`** - Возвращает массив байтов, представляющий собой целое число <br>\n",
    "`length` - длина в байтах (по умолчанию = `1`). Выдает ошибку <u>OverflowError</u> если количество байт недостаточно <br>\n",
    "`byteorder` - определяет порядок байтов, используемый для предоставления целого числа (по умолчанию = `'big'`). <br>\n",
    "Если `byteorder` = `'big'` - старший байт находится в начале массива. <br>\n",
    "Если `byteorder` = `'small'` - старший байт находится в конце массива."
   ]
  },
  {
   "cell_type": "code",
   "execution_count": 55,
   "id": "8221aa56-41d6-44a9-9206-9fd8df1a2608",
   "metadata": {},
   "outputs": [
    {
     "name": "stdout",
     "output_type": "stream",
     "text": [
      "b'\\x04\\x00'\n",
      "b'\\x00\\x00\\x00\\x00\\x00\\x00\\x00\\x00\\x04\\x00'\n",
      "b'\\xff\\xff\\xff\\xff\\xff\\xff\\xff\\xff\\xfc\\x00'\n"
     ]
    }
   ],
   "source": [
    "a = 1024\n",
    "print(a.to_bytes(2))\n",
    "print(a.to_bytes(10))\n",
    "print((-a).to_bytes(10, signed=True))"
   ]
  },
  {
   "cell_type": "code",
   "execution_count": 32,
   "id": "8cef9697-3f3e-4c78-9f32-52b3e8ce8955",
   "metadata": {},
   "outputs": [
    {
     "name": "stdout",
     "output_type": "stream",
     "text": [
      "b'\\xe8\\x03'\n"
     ]
    }
   ],
   "source": [
    "a = 1000\n",
    "print(a.to_bytes((a.bit_length() + 7) // 8, byteorder='little'))"
   ]
  },
  {
   "cell_type": "markdown",
   "id": "06a7ec16-c61d-4cb4-8a26-e661f6964e66",
   "metadata": {},
   "source": [
    "Значение по умолчанию может быть использовано для удобного преобразования целого числа в однобайтовый объект"
   ]
  },
  {
   "cell_type": "code",
   "execution_count": 52,
   "id": "80aa6cee-1fb0-435e-9f8f-cfb12cc7dbee",
   "metadata": {},
   "outputs": [
    {
     "name": "stdout",
     "output_type": "stream",
     "text": [
      "b'~'\n"
     ]
    }
   ],
   "source": [
    "a = 126  ## максимальное значение - 255\n",
    "print(a.to_bytes())"
   ]
  },
  {
   "cell_type": "markdown",
   "id": "a3315f18-9096-4533-a253-3343388c05b0",
   "metadata": {},
   "source": [
    " "
   ]
  },
  {
   "cell_type": "markdown",
   "id": "384729a9-6312-4309-974b-75f147188fef",
   "metadata": {},
   "source": [
    "+ **`int.from_bytes(bytes, byteorder='big', *, signed=False)`** - Возвращает целое число, представленное заданным массивом байт <br>\n",
    "Аргумент `bytes` должен быть либо <u>[байтоподобным объектом](https://docs.python.org/3/glossary.html#term-bytes-like-object)</u>, либо повторяемым производящим байты. <br>\n",
    "`byteorder` - определяет порядок байтов, используемый для предоставления целого числа (по умолчанию = `'big'`). <br>\n",
    "Если `byteorder` = `'big'` - старший байт находится в начале массива. <br>\n",
    "Если `byteorder` = `'small'` - старший байт находится в конце массива."
   ]
  },
  {
   "cell_type": "code",
   "execution_count": 3,
   "id": "c2d50fa3-be9d-433a-b3c2-b8a54150358e",
   "metadata": {},
   "outputs": [
    {
     "name": "stdout",
     "output_type": "stream",
     "text": [
      "16\n",
      "4096\n",
      "-1024\n",
      "64512\n",
      "16711680\n"
     ]
    }
   ],
   "source": [
    "print(int.from_bytes(b'\\x00\\x10'))\n",
    "print(int.from_bytes(b'\\x00\\x10', byteorder='little'))\n",
    "print(int.from_bytes(b'\\xfc\\x00', signed=True))\n",
    "print(int.from_bytes(b'\\xfc\\x00', signed=False))\n",
    "print(int.from_bytes([255, 0, 0]))"
   ]
  },
  {
   "cell_type": "markdown",
   "id": "6e0662f4-39ec-4e26-844a-8586e97294d3",
   "metadata": {},
   "source": [
    " "
   ]
  },
  {
   "cell_type": "markdown",
   "id": "f1534765-3afe-4248-8d37-3a06105de87f",
   "metadata": {},
   "source": [
    "+ **`int.as_integer_ratio()`** - Возвращает *числитель* и положительный *знаменатель* дробного числа"
   ]
  },
  {
   "cell_type": "markdown",
   "id": "a38dc882-e57e-45db-978e-8ed4594fdbb2",
   "metadata": {},
   "source": [
    "<div class=\"alert alert-block alert-warning\">\n",
    "    <b>В случае типа данных integer всегда возвращает исходное число в качестве числителя и 1 в качестве знаменателя</b>\n",
    "</div>"
   ]
  },
  {
   "cell_type": "code",
   "execution_count": 9,
   "id": "4475accb-c245-4811-9af7-f5b577264ba9",
   "metadata": {},
   "outputs": [
    {
     "name": "stdout",
     "output_type": "stream",
     "text": [
      "(-23, 1)\n",
      "(-11, 1)\n",
      "(0, 1)\n",
      "(15, 1)\n"
     ]
    }
   ],
   "source": [
    "for i in -23, -11, 0, 15:\n",
    "    print(i.as_integer_ratio())"
   ]
  },
  {
   "cell_type": "markdown",
   "id": "d22dbf6d-e019-4261-a37d-8ad8afe9b3ee",
   "metadata": {},
   "source": [
    " "
   ]
  },
  {
   "cell_type": "markdown",
   "id": "44552ba7-7bd1-455c-9848-e2163b27d3bb",
   "metadata": {},
   "source": [
    "+ **`int.is_integer()`** - Возвращает `True` если число является `integer`"
   ]
  },
  {
   "cell_type": "code",
   "execution_count": 12,
   "id": "29542836-98e9-4704-b813-7c1bbaf19954",
   "metadata": {},
   "outputs": [
    {
     "name": "stdout",
     "output_type": "stream",
     "text": [
      "True\n",
      "False\n"
     ]
    }
   ],
   "source": [
    "print((20).is_integer())\n",
    "print((19.9).is_integer())"
   ]
  },
  {
   "cell_type": "markdown",
   "id": "494f1a48-e8d2-4ecb-95f7-5f8e08634aa6",
   "metadata": {},
   "source": [
    "---"
   ]
  },
  {
   "cell_type": "markdown",
   "id": "b5cdcecb-3237-4531-9132-34647b7d4ab6",
   "metadata": {},
   "source": [
    "## Дополнительные методы над типом данных `float`"
   ]
  },
  {
   "cell_type": "code",
   "execution_count": null,
   "id": "1f067686-f5d7-4c75-9d41-11c834a45614",
   "metadata": {},
   "outputs": [],
   "source": []
  }
 ],
 "metadata": {
  "kernelspec": {
   "display_name": "Python 3 (ipykernel)",
   "language": "python",
   "name": "python3"
  },
  "language_info": {
   "codemirror_mode": {
    "name": "ipython",
    "version": 3
   },
   "file_extension": ".py",
   "mimetype": "text/x-python",
   "name": "python",
   "nbconvert_exporter": "python",
   "pygments_lexer": "ipython3",
   "version": "3.12.4"
  }
 },
 "nbformat": 4,
 "nbformat_minor": 5
}
