{
 "cells": [
  {
   "cell_type": "markdown",
   "id": "ab136502-fbb5-45cb-a8ea-321062df008e",
   "metadata": {},
   "source": [
    "# Числовые типы"
   ]
  },
  {
   "cell_type": "markdown",
   "id": "47cc3e3b-885c-4a03-a9b8-80ebde85265e",
   "metadata": {},
   "source": [
    "Существует три различных числовых типа [переменных](./Built-in_types.ipynb):\n",
    "* **int** - integers\n",
    "* **float** - floating point numbers\n",
    "* **complex** - complex numbers\n",
    "\n",
    "Все числовые типы данных поддерживают следующие операции:"
   ]
  },
  {
   "cell_type": "markdown",
   "id": "281a2179-cfc7-49ff-b9bd-0ce2622e3262",
   "metadata": {},
   "source": [
    "|Оператор|Операция|Пример|Результат|\n",
    "|-|-|-|-|\n",
    "|`x + y`|Сложение|`2 + 3`|5|\n",
    "|`x - y`|Вычитание|`2 - 10`|-8|\n",
    "|`x * y`|Умножение|`4 * 5`|20|\n",
    "|`x / y`|Деление|`22 / 8`|2.75|\n",
    "|`x // y`|Целочисленное деление с отбрасыванием дробной части|`22 // 8`|2|\n",
    "|`x % y`|Остаток от деления|`22 % 8`|6|\n",
    "|`x ** y`|Возвести число x в степень y|`2 ** 3`|8|\n",
    "|`pow(x, y)`|Возвести число x в степень y|`2 ** 3`|8|\n",
    "|`abs(x)`|Модуль|`abs(-5)`|5|\n",
    "|`int(x)`|Преобразовать в целое число (отбрасывает значения после точки)|`int(2.6)`|2|\n",
    "|`float(x)`|Преобразовать в число с плавающей точкой|`float(2)`|2.0|\n",
    "|`complex(re,im)`|комплексное число с вещественной частью re, и мнимой частью im|`complex(5,2)`|5+2j|\n",
    "|`c.conjugate()`||||\n",
    "|`divmod(x, y)`|пара `(x // y, x % y)`|`divmod(22, 8)`|(2, 6)|"
   ]
  },
  {
   "cell_type": "markdown",
   "id": "16677048-cc80-471d-9f5c-0954166af517",
   "metadata": {},
   "source": [
    "Примечания: <br>\n",
    "1. Python определяет `pow(0, 0)` и `0 ** 0` как `1`\n",
    "2. Float может принимать значения `\"nan\"` (Not a Number) и `\"inf\"` с доболнительным `\"+\"` или `\"-\"` знаком"
   ]
  },
  {
   "cell_type": "code",
   "execution_count": null,
   "id": "9f1607a5-4a8a-4ef7-88fa-0dba96cc6811",
   "metadata": {},
   "outputs": [],
   "source": []
  }
 ],
 "metadata": {
  "kernelspec": {
   "display_name": "Python 3 (ipykernel)",
   "language": "python",
   "name": "python3"
  },
  "language_info": {
   "codemirror_mode": {
    "name": "ipython",
    "version": 3
   },
   "file_extension": ".py",
   "mimetype": "text/x-python",
   "name": "python",
   "nbconvert_exporter": "python",
   "pygments_lexer": "ipython3",
   "version": "3.12.4"
  }
 },
 "nbformat": 4,
 "nbformat_minor": 5
}
